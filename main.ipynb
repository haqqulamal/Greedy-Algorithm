{
 "cells": [
  {
   "cell_type": "code",
   "execution_count": null,
   "metadata": {},
   "outputs": [],
   "source": [
    "import pandas as pd\n",
    "\n",
    "# Load dataset\n",
    "file_path = 'data_buku.csv'\n",
    "data_buku = pd.read_csv(file_path)\n",
    "\n",
    "# Definisikan kapasitas rak\n",
    "kapasitas_rak = 20\n",
    "\n",
    "# Urutkan buku berdasarkan kategori dan kemudian peminjaman secara menurun\n",
    "buku_terurut = data_buku.sort_values(by=['Kategori', 'Peminjaman'], ascending=[True, False])\n",
    "\n",
    "# Inisialisasi rak sebagai list dari list\n",
    "rak = [[]]\n",
    "rak_saat_ini = 0\n",
    "\n",
    "# Fungsi untuk menambahkan buku ke rak saat ini atau membuat rak baru jika penuh\n",
    "def tambahkan_buku_ke_rak(buku, rak, rak_saat_ini, kapasitas_rak):\n",
    "    if len(rak[rak_saat_ini]) < kapasitas_rak:\n",
    "        rak[rak_saat_ini].append(buku)\n",
    "    else:\n",
    "        rak.append([buku])\n",
    "        rak_saat_ini += 1\n",
    "    return rak_saat_ini\n",
    "\n",
    "# Penerapan algoritma greedy: iterasi melalui buku yang sudah diurutkan dan tambahkan ke rak\n",
    "for _, buku in buku_terurut.iterrows():\n",
    "    info_buku = {'Judul': buku['Judul'], 'Peminjaman': buku['Peminjaman'], 'Kategori': buku['Kategori']}\n",
    "    rak_saat_ini = tambahkan_buku_ke_rak(info_buku, rak, rak_saat_ini, kapasitas_rak)\n",
    "\n",
    "# Menampilkan hasil penempatan buku pada setiap rak\n",
    "for i, rak_satuan in enumerate(rak):\n",
    "    print(f\"Rak {i+1}:\")\n",
    "    for buku in rak_satuan:\n",
    "        print(f\"  {buku['Judul']} ({buku['Kategori']}, {buku['Peminjaman']} peminjaman)\")\n",
    "    print(\"\\n\")\n"
   ]
  }
 ],
 "metadata": {
  "kernelspec": {
   "display_name": "Python 3",
   "language": "python",
   "name": "python3"
  },
  "language_info": {
   "codemirror_mode": {
    "name": "ipython",
    "version": 3
   },
   "file_extension": ".py",
   "mimetype": "text/x-python",
   "name": "python",
   "nbconvert_exporter": "python",
   "pygments_lexer": "ipython3",
   "version": "3.7.0"
  }
 },
 "nbformat": 4,
 "nbformat_minor": 2
}
